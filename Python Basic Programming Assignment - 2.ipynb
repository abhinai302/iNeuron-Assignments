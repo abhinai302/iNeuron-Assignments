{
 "cells": [
  {
   "cell_type": "markdown",
   "id": "931d79fd",
   "metadata": {},
   "source": [
    "# Python Basic Programming Assignment - 2"
   ]
  },
  {
   "cell_type": "markdown",
   "id": "8b2d4060",
   "metadata": {},
   "source": [
    "1. Write a Python program to convert kilometers to miles?"
   ]
  },
  {
   "cell_type": "code",
   "execution_count": 30,
   "id": "0a1d051b",
   "metadata": {},
   "outputs": [
    {
     "name": "stdout",
     "output_type": "stream",
     "text": [
      "Enter Kilometers = 5\n",
      "5 Kilometers = 5000 miles\n"
     ]
    }
   ],
   "source": [
    "kilometers = int(input(\"Enter Kilometers = \"))\n",
    "miles = kilometers*1000\n",
    "print(kilometers, \"Kilometers =\" , miles, \"miles\" )"
   ]
  },
  {
   "cell_type": "markdown",
   "id": "27a982e4",
   "metadata": {},
   "source": [
    "2.\tWrite a Python program to convert Celsius to Fahrenheit?"
   ]
  },
  {
   "cell_type": "code",
   "execution_count": 31,
   "id": "5ba7772b",
   "metadata": {},
   "outputs": [
    {
     "name": "stdout",
     "output_type": "stream",
     "text": [
      "Enter celsius = 5\n",
      "5 celsius =  41.0 Fahrenheit\n"
     ]
    }
   ],
   "source": [
    "celsius = int (input(\"Enter celsius = \"))\n",
    "Fahrenheit = (celsius*(9/5) + 32)\n",
    "print(celsius, \"celsius = \", Fahrenheit, \"Fahrenheit\")"
   ]
  },
  {
   "cell_type": "markdown",
   "id": "37b2d43e",
   "metadata": {},
   "source": [
    "3.\tWrite a Python program to display calendar?"
   ]
  },
  {
   "cell_type": "code",
   "execution_count": 32,
   "id": "32da3930",
   "metadata": {},
   "outputs": [
    {
     "name": "stdout",
     "output_type": "stream",
     "text": [
      "Enter year = 1989\n",
      "Enter month = 1\n",
      "    January 1989\n",
      "Mo Tu We Th Fr Sa Su\n",
      "                   1\n",
      " 2  3  4  5  6  7  8\n",
      " 9 10 11 12 13 14 15\n",
      "16 17 18 19 20 21 22\n",
      "23 24 25 26 27 28 29\n",
      "30 31\n",
      "\n"
     ]
    }
   ],
   "source": [
    "import calendar\n",
    "yy = int(input(\"Enter year = \"))\n",
    "mm = int(input(\"Enter month = \"))\n",
    "print(calendar.month(yy,mm))"
   ]
  },
  {
   "cell_type": "markdown",
   "id": "d5245d4a",
   "metadata": {},
   "source": [
    "4.\tWrite a Python program to solve quadratic equation?"
   ]
  },
  {
   "cell_type": "code",
   "execution_count": 66,
   "id": "2121849a",
   "metadata": {},
   "outputs": [
    {
     "name": "stdout",
     "output_type": "stream",
     "text": [
      "a = 1\n",
      "b = 1\n",
      "c = 1\n",
      "Solutions are (-1+0.8660254037844386j) (-1-0.8660254037844386j)\n"
     ]
    }
   ],
   "source": [
    "import cmath\n",
    "a = float(input(\"a = \"))\n",
    "b = float(input(\"b = \"))\n",
    "c = float(input(\"c = \"))\n",
    "x1 = ((-b)+(cmath.sqrt((b**2)-(4*a*c)))/(2*a))\n",
    "x2 = ((-b)-(cmath.sqrt((b**2)-(4*a*c)))/(2*a))\n",
    "print(\"Solutions are\" , x1, x2)"
   ]
  },
  {
   "cell_type": "markdown",
   "id": "108d753c",
   "metadata": {},
   "source": [
    "5.\tWrite a Python program to swap two variables without temp variable?"
   ]
  },
  {
   "cell_type": "code",
   "execution_count": 57,
   "id": "415368f0",
   "metadata": {},
   "outputs": [
    {
     "name": "stdout",
     "output_type": "stream",
     "text": [
      "Enter a =10\n",
      "Enter b =20\n",
      "Variables are  20 10\n"
     ]
    }
   ],
   "source": [
    "a = int(input(\"Enter a =\" ))\n",
    "b = int(input(\"Enter b =\" ))\n",
    "a = a+b\n",
    "b = a-b\n",
    "a = a-b\n",
    "print(\"Variables are \" , a , b)"
   ]
  },
  {
   "cell_type": "code",
   "execution_count": null,
   "id": "2f69e1ee",
   "metadata": {},
   "outputs": [],
   "source": []
  }
 ],
 "metadata": {
  "kernelspec": {
   "display_name": "Python 3",
   "language": "python",
   "name": "python3"
  },
  "language_info": {
   "codemirror_mode": {
    "name": "ipython",
    "version": 3
   },
   "file_extension": ".py",
   "mimetype": "text/x-python",
   "name": "python",
   "nbconvert_exporter": "python",
   "pygments_lexer": "ipython3",
   "version": "3.8.8"
  }
 },
 "nbformat": 4,
 "nbformat_minor": 5
}
